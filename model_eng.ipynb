{
 "cells": [
  {
   "cell_type": "code",
   "execution_count": 1,
   "id": "d93388df",
   "metadata": {},
   "outputs": [],
   "source": [
    "import numpy as np\n",
    "import pandas as pd\n",
    "from bs4 import BeautifulSoup\n",
    "import requests\n",
    "from csv import writer\n",
    "import re\n",
    "import seaborn as sns\n",
    "import matplotlib.pyplot as plt"
   ]
  },
  {
   "cell_type": "markdown",
   "id": "454f0ad0",
   "metadata": {},
   "source": [
    "1-) Informational responses (100–199)\n",
    "\n",
    "2-) Successful responses (200–299)\n",
    "\n",
    "3-) Redirection messages (300–399)\n",
    "\n",
    "4-) Client error responses (400–499)\n",
    "\n",
    "5-) Server error responses (500–599)"
   ]
  },
  {
   "cell_type": "code",
   "execution_count": 2,
   "id": "40f65f1b",
   "metadata": {},
   "outputs": [],
   "source": [
    "def house_scraping(url,csv):\n",
    "    #url = \"https://www.hepsiemlak.com/umraniye-kiralik\"\n",
    "    page = requests.get(url)\n",
    "    \n",
    "    # Every html file is in the soup right now\n",
    "    soup = BeautifulSoup(page.content,'html.parser')\n",
    "    lists = soup.find_all('li',class_=\"listing-item\")\n",
    "    \n",
    "    # That function is for csv file\n",
    "    with open(csv,'a',encoding='utf8',newline='') as f:\n",
    "        csv_writer = writer(f)\n",
    "        header = ['Description','Weekend','Area','Age','Floor','Price']\n",
    "        csv_writer.writerow(header)\n",
    "        for list in lists:\n",
    "            description = list.find('header',class_ = 'list-view-header').text.replace('\\n','')\n",
    "            weekend = list.find('span',class_ = 'celly houseRoomCount').text.replace('\\n','')\n",
    "            area = list.find('span',class_ = 'celly squareMeter list-view-size').text.replace('\\n','')\n",
    "            age = list.find('span',class_ = 'celly buildingAge').text.replace('\\n','')\n",
    "            floor = list.find('span',class_ = 'celly floortype').text.replace('\\n','')\n",
    "            price = list.find('span',class_ = 'list-view-price').text.replace('\\n','')\n",
    "            info = [description,weekend,area,age,floor,price]\n",
    "            csv_writer.writerow(info)"
   ]
  },
  {
   "cell_type": "code",
   "execution_count": 3,
   "id": "de62505b",
   "metadata": {},
   "outputs": [],
   "source": [
    "def county(name,page):\n",
    "    \"\"\"Web scrapping is beginning from here, I have URL of website and it has an exception for first page which is different\n",
    "    between anothers so I am using if-else condition for that.\"\"\"\n",
    "    for i in range(page):\n",
    "        if i == 0:\n",
    "            house_scraping(url=f\"https://www.hepsiemlak.com/{name}-kiralik\",csv=f\"hepsiemlak_{name}.csv\")\n",
    "        else:\n",
    "            house_scraping(url=f\"https://www.hepsiemlak.com/{name}-kiralik?page={i+1}\",csv=f\"hepsiemlak_{name}.csv\")"
   ]
  },
  {
   "cell_type": "markdown",
   "id": "2f7e1095",
   "metadata": {},
   "source": [
    "## Uskudar"
   ]
  },
  {
   "cell_type": "code",
   "execution_count": 4,
   "id": "5dc39518",
   "metadata": {},
   "outputs": [
    {
     "data": {
      "text/html": [
       "<div>\n",
       "<style scoped>\n",
       "    .dataframe tbody tr th:only-of-type {\n",
       "        vertical-align: middle;\n",
       "    }\n",
       "\n",
       "    .dataframe tbody tr th {\n",
       "        vertical-align: top;\n",
       "    }\n",
       "\n",
       "    .dataframe thead th {\n",
       "        text-align: right;\n",
       "    }\n",
       "</style>\n",
       "<table border=\"1\" class=\"dataframe\">\n",
       "  <thead>\n",
       "    <tr style=\"text-align: right;\">\n",
       "      <th></th>\n",
       "      <th>Description</th>\n",
       "      <th>Weekend</th>\n",
       "      <th>Area</th>\n",
       "      <th>Age</th>\n",
       "      <th>Floor</th>\n",
       "      <th>Price</th>\n",
       "    </tr>\n",
       "  </thead>\n",
       "  <tbody>\n",
       "    <tr>\n",
       "      <th>0</th>\n",
       "      <td>libadiye cad. yakın ku...</td>\n",
       "      <td>2 + 1</td>\n",
       "      <td>90 m2</td>\n",
       "      <td>5 Yaşında</td>\n",
       "      <td>3. Kat</td>\n",
       "      <td>12.000              TL</td>\n",
       "    </tr>\n",
       "    <tr>\n",
       "      <th>1</th>\n",
       "      <td>sevinç dan.. üsk.fuul ...</td>\n",
       "      <td>3 + 1</td>\n",
       "      <td>150 m2</td>\n",
       "      <td>Sıfır Bina</td>\n",
       "      <td>4. Kat</td>\n",
       "      <td>10.000              TL</td>\n",
       "    </tr>\n",
       "    <tr>\n",
       "      <th>2</th>\n",
       "      <td>yeni evlenecek çiftler...</td>\n",
       "      <td>2 + 1</td>\n",
       "      <td>80 m2</td>\n",
       "      <td>5 Yaşında</td>\n",
       "      <td>5. Kat</td>\n",
       "      <td>8.000              TL</td>\n",
       "    </tr>\n",
       "    <tr>\n",
       "      <th>3</th>\n",
       "      <td>üsküdar burhaniye 'de ...</td>\n",
       "      <td>2 + 1</td>\n",
       "      <td>75 m2</td>\n",
       "      <td>25 Yaşında</td>\n",
       "      <td>Zemin</td>\n",
       "      <td>3.500              TL</td>\n",
       "    </tr>\n",
       "    <tr>\n",
       "      <th>4</th>\n",
       "      <td>üsküdar’da sıfır binad...</td>\n",
       "      <td>3 + 1</td>\n",
       "      <td>88 m2</td>\n",
       "      <td>Sıfır Bina</td>\n",
       "      <td>1. Kat</td>\n",
       "      <td>11.000              TL</td>\n",
       "    </tr>\n",
       "    <tr>\n",
       "      <th>...</th>\n",
       "      <td>...</td>\n",
       "      <td>...</td>\n",
       "      <td>...</td>\n",
       "      <td>...</td>\n",
       "      <td>...</td>\n",
       "      <td>...</td>\n",
       "    </tr>\n",
       "    <tr>\n",
       "      <th>204</th>\n",
       "      <td>üsküdar merkez marmara...</td>\n",
       "      <td>2 + 1</td>\n",
       "      <td>90 m2</td>\n",
       "      <td>30 Yaşında</td>\n",
       "      <td>3. Kat</td>\n",
       "      <td>8.000              TL</td>\n",
       "    </tr>\n",
       "    <tr>\n",
       "      <th>205</th>\n",
       "      <td>muhteşem havuzlu rıhtı...</td>\n",
       "      <td>5 + 1</td>\n",
       "      <td>500 m2</td>\n",
       "      <td>38 Yaşında</td>\n",
       "      <td>3. Kat</td>\n",
       "      <td>320.000              TL</td>\n",
       "    </tr>\n",
       "    <tr>\n",
       "      <th>206</th>\n",
       "      <td>üsküdar selimiye'de de...</td>\n",
       "      <td>3 + 1</td>\n",
       "      <td>160 m2</td>\n",
       "      <td>30 Yaşında</td>\n",
       "      <td>Teras Katı</td>\n",
       "      <td>20.000              TL</td>\n",
       "    </tr>\n",
       "    <tr>\n",
       "      <th>207</th>\n",
       "      <td>üsküdar harem'de payla...</td>\n",
       "      <td>Stüdyo</td>\n",
       "      <td>36 m2</td>\n",
       "      <td>15 Yaşında</td>\n",
       "      <td>Ara Kat</td>\n",
       "      <td>2.600              TL</td>\n",
       "    </tr>\n",
       "    <tr>\n",
       "      <th>208</th>\n",
       "      <td>üsküdar selimiye de fu...</td>\n",
       "      <td>Stüdyo</td>\n",
       "      <td>35 m2</td>\n",
       "      <td>10 Yaşında</td>\n",
       "      <td>Ara Kat</td>\n",
       "      <td>2.000              TL</td>\n",
       "    </tr>\n",
       "  </tbody>\n",
       "</table>\n",
       "<p>209 rows × 6 columns</p>\n",
       "</div>"
      ],
      "text/plain": [
       "                                           Description Weekend  \\\n",
       "0                            libadiye cad. yakın ku...   2 + 1   \n",
       "1                            sevinç dan.. üsk.fuul ...   3 + 1   \n",
       "2                            yeni evlenecek çiftler...   2 + 1   \n",
       "3                            üsküdar burhaniye 'de ...   2 + 1   \n",
       "4                            üsküdar’da sıfır binad...   3 + 1   \n",
       "..                                                 ...     ...   \n",
       "204                          üsküdar merkez marmara...   2 + 1   \n",
       "205                          muhteşem havuzlu rıhtı...   5 + 1   \n",
       "206                          üsküdar selimiye'de de...   3 + 1   \n",
       "207                          üsküdar harem'de payla...  Stüdyo   \n",
       "208                          üsküdar selimiye de fu...  Stüdyo   \n",
       "\n",
       "                                 Area         Age  \\\n",
       "0                               90 m2   5 Yaşında   \n",
       "1                              150 m2  Sıfır Bina   \n",
       "2                               80 m2   5 Yaşında   \n",
       "3                               75 m2  25 Yaşında   \n",
       "4                               88 m2  Sıfır Bina   \n",
       "..                                ...         ...   \n",
       "204                             90 m2  30 Yaşında   \n",
       "205                            500 m2  38 Yaşında   \n",
       "206                            160 m2  30 Yaşında   \n",
       "207                             36 m2  15 Yaşında   \n",
       "208                             35 m2  10 Yaşında   \n",
       "\n",
       "                                Floor                                  Price  \n",
       "0                              3. Kat                 12.000              TL  \n",
       "1                              4. Kat                 10.000              TL  \n",
       "2                              5. Kat                  8.000              TL  \n",
       "3                               Zemin                  3.500              TL  \n",
       "4                              1. Kat                 11.000              TL  \n",
       "..                                ...                                    ...  \n",
       "204                            3. Kat                  8.000              TL  \n",
       "205                            3. Kat                320.000              TL  \n",
       "206                        Teras Katı                 20.000              TL  \n",
       "207                           Ara Kat                  2.600              TL  \n",
       "208                           Ara Kat                  2.000              TL  \n",
       "\n",
       "[209 rows x 6 columns]"
      ]
     },
     "execution_count": 4,
     "metadata": {},
     "output_type": "execute_result"
    }
   ],
   "source": [
    "\"\"\"Uskudar is the county in Istanbul and I am using this variable for the project and then page number is, \n",
    "when you visit website you can see that Uskudar page has only 9 pages values.\n",
    "Also you can write 'atasehir' 'umraniye' or any county names into Istanbul.\"\"\"\n",
    "county(\"uskudar\",9)\n",
    "dataset = pd.read_csv(\"hepsiemlak_uskudar.csv\")\n",
    "dataset"
   ]
  },
  {
   "cell_type": "code",
   "execution_count": 5,
   "id": "e61191dc",
   "metadata": {},
   "outputs": [
    {
     "data": {
      "text/plain": [
       "3 + 1      59\n",
       "2 + 1      54\n",
       "1 + 1      29\n",
       "4 + 1      21\n",
       "5 + 1       9\n",
       "Weekend     8\n",
       "4 + 2       6\n",
       "Stüdyo      4\n",
       "2 + 2       3\n",
       "5 + 2       3\n",
       "6 + 1       3\n",
       "6 + 2       2\n",
       "10 + 4      1\n",
       "5 + 3       1\n",
       "10 + 2      1\n",
       "2 + 0       1\n",
       "3 + 2       1\n",
       "8 + 3       1\n",
       "6 + 3       1\n",
       "8 + 2       1\n",
       "Name: Weekend, dtype: int64"
      ]
     },
     "execution_count": 5,
     "metadata": {},
     "output_type": "execute_result"
    }
   ],
   "source": [
    "# Well, right now we have a dataset from website and it has some features, let's dive into dataset and make data cleaning.\n",
    "dataset.Weekend.value_counts()\n",
    "# In here we have a bunch different type of Weekend values and some of them are inconsistent so we can drop them. "
   ]
  },
  {
   "cell_type": "code",
   "execution_count": 6,
   "id": "10fafed2",
   "metadata": {},
   "outputs": [
    {
     "data": {
      "text/plain": [
       "3 + 1     59\n",
       "2 + 1     54\n",
       "1 + 1     29\n",
       "4 + 1     21\n",
       "5 + 1      9\n",
       "4 + 2      6\n",
       "Stüdyo     4\n",
       "2 + 2      3\n",
       "5 + 2      3\n",
       "6 + 1      3\n",
       "6 + 2      2\n",
       "10 + 4     1\n",
       "5 + 3      1\n",
       "10 + 2     1\n",
       "2 + 0      1\n",
       "3 + 2      1\n",
       "8 + 3      1\n",
       "6 + 3      1\n",
       "8 + 2      1\n",
       "Name: Weekend, dtype: int64"
      ]
     },
     "execution_count": 6,
     "metadata": {},
     "output_type": "execute_result"
    }
   ],
   "source": [
    "my_list = []\n",
    "for i in range(len(dataset)):\n",
    "    if dataset.Weekend.iloc[i] == \"Weekend\":\n",
    "        my_list.append(i)\n",
    "        \n",
    "dataset = dataset.drop(my_list)\n",
    "dataset.Weekend.value_counts()"
   ]
  },
  {
   "cell_type": "code",
   "execution_count": 7,
   "id": "c334c293",
   "metadata": {},
   "outputs": [
    {
     "data": {
      "text/plain": [
       "                          100 m2    14\n",
       "                          90 m2     12\n",
       "                          150 m2    12\n",
       "                          140 m2    10\n",
       "                          75 m2      8\n",
       "                                    ..\n",
       "                          163 m2     1\n",
       "                          187 m2     1\n",
       "                          87 m2      1\n",
       "                          230 m2     1\n",
       "                          36 m2      1\n",
       "Name: Area, Length: 65, dtype: int64"
      ]
     },
     "execution_count": 7,
     "metadata": {},
     "output_type": "execute_result"
    }
   ],
   "source": [
    "\"\"\" Let's work on Area values, it is object type values for this reason we can use regular expression to split values and \n",
    "make it integer style values.\"\"\"\n",
    "dataset.Area.value_counts()"
   ]
  },
  {
   "cell_type": "code",
   "execution_count": 8,
   "id": "8c412f96",
   "metadata": {},
   "outputs": [],
   "source": [
    "for i in range(len(dataset)):\n",
    "    try:\n",
    "        dataset.Area.iloc[i] = int(re.split(r\"\\s+\",dataset.Area.iloc[i])[1])\n",
    "    except:\n",
    "        # Only one value has 1.300 m^2 value so we can drop it from dataset.\n",
    "        pass\n",
    "    \n",
    "for i in range(len(dataset)):\n",
    "    try:\n",
    "        if type(dataset.Area.iloc[i]) == str:\n",
    "            dataset = dataset.drop(i)\n",
    "    except:\n",
    "        pass"
   ]
  },
  {
   "cell_type": "code",
   "execution_count": 9,
   "id": "4d335491",
   "metadata": {},
   "outputs": [
    {
     "data": {
      "text/plain": [
       "Sıfır Bina    38\n",
       "30 Yaşında    25\n",
       "25 Yaşında    18\n",
       "35 Yaşında    12\n",
       "2 Yaşında      9\n",
       "3 Yaşında      9\n",
       "20 Yaşında     9\n",
       "40 Yaşında     8\n",
       "15 Yaşında     8\n",
       "10 Yaşında     8\n",
       "26 Yaşında     6\n",
       "1 Yaşında      6\n",
       "4 Yaşında      6\n",
       "5 Yaşında      5\n",
       "31 Yaşında     4\n",
       "8 Yaşında      3\n",
       "45 Yaşında     2\n",
       "16 Yaşında     2\n",
       "22 Yaşında     2\n",
       "14 Yaşında     2\n",
       "27 Yaşında     2\n",
       "11 Yaşında     2\n",
       "6 Yaşında      1\n",
       "21 Yaşında     1\n",
       "12 Yaşında     1\n",
       "33 Yaşında     1\n",
       "32 Yaşında     1\n",
       "19 Yaşında     1\n",
       "18 Yaşında     1\n",
       "50 Yaşında     1\n",
       "34 Yaşında     1\n",
       "36 Yaşında     1\n",
       "7 Yaşında      1\n",
       "17 Yaşında     1\n",
       "13 Yaşında     1\n",
       "38 Yaşında     1\n",
       "Name: Age, dtype: int64"
      ]
     },
     "execution_count": 9,
     "metadata": {},
     "output_type": "execute_result"
    }
   ],
   "source": [
    "# In here, I will remove letters to make datas integer again so I need to use regular expression.\n",
    "dataset.Age.value_counts()"
   ]
  },
  {
   "cell_type": "code",
   "execution_count": 10,
   "id": "c28df925",
   "metadata": {},
   "outputs": [
    {
     "data": {
      "text/plain": [
       "0     38\n",
       "1      6\n",
       "2      9\n",
       "3      9\n",
       "4      6\n",
       "5      5\n",
       "6      1\n",
       "7      1\n",
       "8      3\n",
       "10     8\n",
       "11     2\n",
       "12     1\n",
       "13     1\n",
       "14     2\n",
       "15     8\n",
       "16     2\n",
       "17     1\n",
       "18     1\n",
       "19     1\n",
       "20     9\n",
       "21     1\n",
       "22     2\n",
       "25    18\n",
       "26     6\n",
       "27     2\n",
       "30    25\n",
       "31     4\n",
       "32     1\n",
       "33     1\n",
       "34     1\n",
       "35    12\n",
       "36     1\n",
       "38     1\n",
       "40     8\n",
       "45     2\n",
       "50     1\n",
       "Name: Age, dtype: int64"
      ]
     },
     "execution_count": 10,
     "metadata": {},
     "output_type": "execute_result"
    }
   ],
   "source": [
    "for i in range(len(dataset)):\n",
    "    if dataset.Age.iloc[i] == \"Sıfır Bina\":\n",
    "        dataset.Age.iloc[i] = 0\n",
    "    else:\n",
    "        dataset.Age.iloc[i] = int(re.split(r\"\\s+\",dataset.Age.iloc[i])[0])\n",
    "dataset.Age.value_counts().sort_index(ascending=True)"
   ]
  },
  {
   "cell_type": "code",
   "execution_count": 11,
   "id": "d9cd62c5",
   "metadata": {},
   "outputs": [
    {
     "data": {
      "text/plain": [
       "                      4. Kat          30\n",
       "                      1. Kat          21\n",
       "                      3. Kat          20\n",
       "                      Bahçe Katı      15\n",
       "                      Ara Kat         13\n",
       "                      Giriş Katı      13\n",
       "                      2. Kat          12\n",
       "                      En Üst Kat      12\n",
       "                      5. Kat          10\n",
       "                      Yüksek Giriş     9\n",
       "                      21 ve üzeri      6\n",
       "                      Kot 1            3\n",
       "                      Teras Katı       3\n",
       "                      15. Kat          2\n",
       "                      Zemin            2\n",
       "                      6. Kat           2\n",
       "                      Çatı Katı        2\n",
       "                      Yarı Bodrum      1\n",
       "                      13. Kat          1\n",
       "                      20. Kat          1\n",
       "                      Villa Katı       1\n",
       "                      19. Kat          1\n",
       "                      9. Kat           1\n",
       "                      Kot 2            1\n",
       "                      Kot 3            1\n",
       "                      16. Kat          1\n",
       "Name: Floor, dtype: int64"
      ]
     },
     "execution_count": 11,
     "metadata": {},
     "output_type": "execute_result"
    }
   ],
   "source": [
    "\"\"\"That one is Floor column which is a bit trickier than others. For that one, I will make Bahçe, Giriş, Yuksek to declare 1\n",
    "and then I will delete some of them.\"\"\"\n",
    "dataset.Floor.value_counts()"
   ]
  },
  {
   "cell_type": "code",
   "execution_count": 12,
   "id": "8cf22f45",
   "metadata": {},
   "outputs": [
    {
     "name": "stderr",
     "output_type": "stream",
     "text": [
      "C:\\Users\\cagri\\anaconda3\\lib\\site-packages\\pandas\\core\\indexes\\base.py:4616: FutureWarning: Using a non-tuple sequence for multidimensional indexing is deprecated; use `arr[tuple(seq)]` instead of `arr[seq]`. In the future this will be interpreted as an array index, `arr[np.array(seq)]`, which will result either in an error or a different result.\n",
      "  result = getitem(key)\n"
     ]
    }
   ],
   "source": [
    "floor_list = []\n",
    "for i in range(len(dataset)):\n",
    "    try:\n",
    "        dataset.Floor.iloc[i] = int(re.split(r\"[-;,.\\s]\\s*\",dataset.Floor.iloc[i])[1])\n",
    "    except:\n",
    "        pass\n",
    "\n",
    "for i in range(len(dataset)):\n",
    "    try:\n",
    "        value = re.split(r\"[-;,.\\s]\\s*\",dataset.Floor.iloc[i])[1]\n",
    "        if value == \"Bahçe\":\n",
    "            dataset.Floor.iloc[i] = 1\n",
    "        elif value == \"Giriş\":\n",
    "            dataset.Floor.iloc[i] = 1\n",
    "        elif value == \"Yüksek\":\n",
    "            dataset.Floor.iloc[i] = 1\n",
    "    except:\n",
    "        pass\n",
    "    \n",
    "k = 0\n",
    "t = 0\n",
    "for i in range(len(dataset)):\n",
    "    if type(dataset.Floor.iloc[i]) == int:\n",
    "        k = k + dataset.Floor.iloc[i]\n",
    "        t = t + 1\n",
    "mid_layer = int(k/t)\n",
    "for i in range(len(dataset)):\n",
    "    try:\n",
    "        value = re.split(r\"[-;,.\\s]\\s*\",dataset.Floor.iloc[i])[1]\n",
    "        if value == \"Ara\":\n",
    "            dataset.Floor.iloc[i] = mid_layer\n",
    "        elif value == \"En\":\n",
    "            dataset.Floor.iloc[i] = 21\n",
    "    except:\n",
    "        pass\n",
    "    \n",
    "    \n",
    "drop_list = []\n",
    "for i in range(len(dataset)):\n",
    "    if type(dataset.Floor.iloc[i]) == str:\n",
    "        drop_list.append(i)\n",
    "dataset = dataset.drop(dataset.index[[drop_list]])"
   ]
  },
  {
   "cell_type": "code",
   "execution_count": 13,
   "id": "0f764312",
   "metadata": {},
   "outputs": [
    {
     "data": {
      "text/plain": [
       "              10.000              TL    9\n",
       "              15.000              TL    8\n",
       "              9.000              TL     7\n",
       "              8.000              TL     6\n",
       "              5.500              TL     6\n",
       "                                       ..\n",
       "              3.000              TL     1\n",
       "              60.390              TL    1\n",
       "              22.000              TL    1\n",
       "              16.500              TL    1\n",
       "              2.000              TL     1\n",
       "Name: Price, Length: 82, dtype: int64"
      ]
     },
     "execution_count": 13,
     "metadata": {},
     "output_type": "execute_result"
    }
   ],
   "source": [
    "\"\"\"The last step of preprocessing is Price columns, every single row has TL letters and some blank so I can use regex for,\n",
    "cleaning that datas then make it integer as well.\"\"\"\n",
    "dataset.Price.value_counts()"
   ]
  },
  {
   "cell_type": "code",
   "execution_count": 14,
   "id": "f3a5fe29",
   "metadata": {},
   "outputs": [],
   "source": [
    "for i in range(len(dataset)):\n",
    "    value = re.split(r\"[-;,.\\s]\\s*\",dataset.Price.iloc[i])[1:3]\n",
    "    dataset.Price.iloc[i] = int(value[0]) * 1000"
   ]
  },
  {
   "cell_type": "code",
   "execution_count": 15,
   "id": "1c626e2f",
   "metadata": {},
   "outputs": [
    {
     "data": {
      "text/plain": [
       "Description     0\n",
       "Weekend         0\n",
       "Area            0\n",
       "Age             0\n",
       "Floor          16\n",
       "Price           0\n",
       "dtype: int64"
      ]
     },
     "execution_count": 15,
     "metadata": {},
     "output_type": "execute_result"
    }
   ],
   "source": [
    "\"\"\"With this function I am checking if the data has any null values, If the data has null variables, I can fill it with mean, \n",
    "median values or I can drop them as I wish.\"\"\"\n",
    "dataset.isnull().sum()"
   ]
  },
  {
   "cell_type": "code",
   "execution_count": 16,
   "id": "114c2106",
   "metadata": {},
   "outputs": [
    {
     "data": {
      "text/html": [
       "<div>\n",
       "<style scoped>\n",
       "    .dataframe tbody tr th:only-of-type {\n",
       "        vertical-align: middle;\n",
       "    }\n",
       "\n",
       "    .dataframe tbody tr th {\n",
       "        vertical-align: top;\n",
       "    }\n",
       "\n",
       "    .dataframe thead th {\n",
       "        text-align: right;\n",
       "    }\n",
       "</style>\n",
       "<table border=\"1\" class=\"dataframe\">\n",
       "  <thead>\n",
       "    <tr style=\"text-align: right;\">\n",
       "      <th></th>\n",
       "      <th>Description</th>\n",
       "      <th>Weekend</th>\n",
       "      <th>Area</th>\n",
       "      <th>Age</th>\n",
       "      <th>Floor</th>\n",
       "      <th>Price</th>\n",
       "    </tr>\n",
       "  </thead>\n",
       "  <tbody>\n",
       "    <tr>\n",
       "      <th>0</th>\n",
       "      <td>libadiye cad. yakın ku...</td>\n",
       "      <td>2 + 1</td>\n",
       "      <td>90</td>\n",
       "      <td>5</td>\n",
       "      <td>3</td>\n",
       "      <td>12000</td>\n",
       "    </tr>\n",
       "    <tr>\n",
       "      <th>1</th>\n",
       "      <td>sevinç dan.. üsk.fuul ...</td>\n",
       "      <td>3 + 1</td>\n",
       "      <td>150</td>\n",
       "      <td>0</td>\n",
       "      <td>4</td>\n",
       "      <td>10000</td>\n",
       "    </tr>\n",
       "    <tr>\n",
       "      <th>2</th>\n",
       "      <td>yeni evlenecek çiftler...</td>\n",
       "      <td>2 + 1</td>\n",
       "      <td>80</td>\n",
       "      <td>5</td>\n",
       "      <td>5</td>\n",
       "      <td>8000</td>\n",
       "    </tr>\n",
       "    <tr>\n",
       "      <th>4</th>\n",
       "      <td>üsküdar’da sıfır binad...</td>\n",
       "      <td>3 + 1</td>\n",
       "      <td>88</td>\n",
       "      <td>0</td>\n",
       "      <td>1</td>\n",
       "      <td>11000</td>\n",
       "    </tr>\n",
       "    <tr>\n",
       "      <th>5</th>\n",
       "      <td>üsküdar ahmediye mah a...</td>\n",
       "      <td>2 + 1</td>\n",
       "      <td>75</td>\n",
       "      <td>40</td>\n",
       "      <td>3</td>\n",
       "      <td>5000</td>\n",
       "    </tr>\n",
       "    <tr>\n",
       "      <th>...</th>\n",
       "      <td>...</td>\n",
       "      <td>...</td>\n",
       "      <td>...</td>\n",
       "      <td>...</td>\n",
       "      <td>...</td>\n",
       "      <td>...</td>\n",
       "    </tr>\n",
       "    <tr>\n",
       "      <th>203</th>\n",
       "      <td>üsküdar zeynep kamil 1...</td>\n",
       "      <td>1 + 1</td>\n",
       "      <td>75</td>\n",
       "      <td>30</td>\n",
       "      <td>1</td>\n",
       "      <td>6000</td>\n",
       "    </tr>\n",
       "    <tr>\n",
       "      <th>204</th>\n",
       "      <td>üsküdar merkez marmara...</td>\n",
       "      <td>2 + 1</td>\n",
       "      <td>90</td>\n",
       "      <td>30</td>\n",
       "      <td>3</td>\n",
       "      <td>8000</td>\n",
       "    </tr>\n",
       "    <tr>\n",
       "      <th>205</th>\n",
       "      <td>muhteşem havuzlu rıhtı...</td>\n",
       "      <td>5 + 1</td>\n",
       "      <td>500</td>\n",
       "      <td>38</td>\n",
       "      <td>3</td>\n",
       "      <td>320000</td>\n",
       "    </tr>\n",
       "    <tr>\n",
       "      <th>207</th>\n",
       "      <td>üsküdar harem'de payla...</td>\n",
       "      <td>Stüdyo</td>\n",
       "      <td>36</td>\n",
       "      <td>15</td>\n",
       "      <td>3</td>\n",
       "      <td>2000</td>\n",
       "    </tr>\n",
       "    <tr>\n",
       "      <th>208</th>\n",
       "      <td>üsküdar selimiye de fu...</td>\n",
       "      <td>Stüdyo</td>\n",
       "      <td>35</td>\n",
       "      <td>10</td>\n",
       "      <td>3</td>\n",
       "      <td>2000</td>\n",
       "    </tr>\n",
       "  </tbody>\n",
       "</table>\n",
       "<p>170 rows × 6 columns</p>\n",
       "</div>"
      ],
      "text/plain": [
       "                                           Description Weekend Area Age Floor  \\\n",
       "0                            libadiye cad. yakın ku...   2 + 1   90   5     3   \n",
       "1                            sevinç dan.. üsk.fuul ...   3 + 1  150   0     4   \n",
       "2                            yeni evlenecek çiftler...   2 + 1   80   5     5   \n",
       "4                            üsküdar’da sıfır binad...   3 + 1   88   0     1   \n",
       "5                            üsküdar ahmediye mah a...   2 + 1   75  40     3   \n",
       "..                                                 ...     ...  ...  ..   ...   \n",
       "203                          üsküdar zeynep kamil 1...   1 + 1   75  30     1   \n",
       "204                          üsküdar merkez marmara...   2 + 1   90  30     3   \n",
       "205                          muhteşem havuzlu rıhtı...   5 + 1  500  38     3   \n",
       "207                          üsküdar harem'de payla...  Stüdyo   36  15     3   \n",
       "208                          üsküdar selimiye de fu...  Stüdyo   35  10     3   \n",
       "\n",
       "      Price  \n",
       "0     12000  \n",
       "1     10000  \n",
       "2      8000  \n",
       "4     11000  \n",
       "5      5000  \n",
       "..      ...  \n",
       "203    6000  \n",
       "204    8000  \n",
       "205  320000  \n",
       "207    2000  \n",
       "208    2000  \n",
       "\n",
       "[170 rows x 6 columns]"
      ]
     },
     "execution_count": 16,
     "metadata": {},
     "output_type": "execute_result"
    }
   ],
   "source": [
    "dataset = dataset.dropna()\n",
    "dataset"
   ]
  },
  {
   "cell_type": "code",
   "execution_count": 17,
   "id": "12df0af0",
   "metadata": {},
   "outputs": [
    {
     "data": {
      "image/png": "[encoded data removed]",
      "text/plain": [
       "<Figure size 864x576 with 1 Axes>"
      ]
     },
     "metadata": {
      "needs_background": "light"
     },
     "output_type": "display_data"
    }
   ],
   "source": [
    "\"\"\" Let's visualize the dataset's Area and dataset's Price together. That correlation seems that the values looks homogenized.\n",
    "If we delete 5 values which are bigger than 300 m^2 area, the distrubition will look more detailed.\"\"\"\n",
    "plt.figure(figsize=(12,8))\n",
    "plt.scatter(dataset.Area.values, dataset.Price.values, c =\"blue\")\n",
    "plt.xlabel(\"Area\")\n",
    "plt.ylabel(\"Price\")\n",
    "plt.show()"
   ]
  },
  {
   "cell_type": "code",
   "execution_count": 18,
   "id": "420ce25e",
   "metadata": {},
   "outputs": [
    {
     "name": "stderr",
     "output_type": "stream",
     "text": [
      "C:\\Users\\cagri\\anaconda3\\lib\\site-packages\\pandas\\core\\indexes\\base.py:4616: FutureWarning: Using a non-tuple sequence for multidimensional indexing is deprecated; use `arr[tuple(seq)]` instead of `arr[seq]`. In the future this will be interpreted as an array index, `arr[np.array(seq)]`, which will result either in an error or a different result.\n",
      "  result = getitem(key)\n"
     ]
    },
    {
     "data": {
      "image/png": "[encoded data removed]",
      "text/plain": [
       "<Figure size 864x576 with 1 Axes>"
      ]
     },
     "metadata": {
      "needs_background": "light"
     },
     "output_type": "display_data"
    }
   ],
   "source": [
    "drop_list = []\n",
    "for i in range(len(dataset)):\n",
    "    if dataset.Area.iloc[i] > 300:\n",
    "        drop_list.append(i)\n",
    "dataset = dataset.drop(dataset.index[[drop_list]])\n",
    "\n",
    "plt.figure(figsize=(12,8))\n",
    "plt.scatter(dataset.Area.values, dataset.Price.values, c =\"blue\")\n",
    "plt.xlabel(\"Area\")\n",
    "plt.grid(False)\n",
    "plt.ylabel(\"Price\")\n",
    "plt.show()"
   ]
  },
  {
   "cell_type": "code",
   "execution_count": 19,
   "id": "42cebd24",
   "metadata": {},
   "outputs": [
    {
     "data": {
      "image/png": "[encoded data removed]",
      "text/plain": [
       "<Figure size 864x576 with 1 Axes>"
      ]
     },
     "metadata": {
      "needs_background": "light"
     },
     "output_type": "display_data"
    }
   ],
   "source": [
    "# All house's weekends visualized by histogram in here.\n",
    "plt.figure(figsize=(12,8))\n",
    "plt.hist(dataset.Weekend,bins=dataset.Weekend.value_counts().count())\n",
    "plt.grid(False)\n",
    "plt.xlabel(\"Weekend\")\n",
    "plt.ylabel(\"Count\")\n",
    "plt.show()"
   ]
  },
  {
   "cell_type": "code",
   "execution_count": 20,
   "id": "608da3d4",
   "metadata": {},
   "outputs": [
    {
     "data": {
      "image/png": "[encoded data removed]",
      "text/plain": [
       "<Figure size 864x576 with 1 Axes>"
      ]
     },
     "metadata": {
      "needs_background": "light"
     },
     "output_type": "display_data"
    }
   ],
   "source": [
    "# With barplot, the dataset's Price and Weekends datas has been visualized.\n",
    "plt.figure(figsize=(12,8))\n",
    "sns.set_theme(style=\"whitegrid\")\n",
    "ax = sns.barplot(x=\"Weekend\", y=\"Price\", data=dataset)\n",
    "plt.xlabel(\"Weekend\")\n",
    "plt.ylabel(\"Price\")\n",
    "plt.show()"
   ]
  },
  {
   "cell_type": "code",
   "execution_count": 21,
   "id": "046e8468",
   "metadata": {},
   "outputs": [
    {
     "data": {
      "image/png": "[encoded data removed]",
      "text/plain": [
       "<Figure size 864x576 with 1 Axes>"
      ]
     },
     "metadata": {},
     "output_type": "display_data"
    }
   ],
   "source": [
    "plt.figure(figsize=(12,8))\n",
    "plt.hist(dataset.Age,bins=dataset.Age.value_counts().count())\n",
    "plt.grid(False)\n",
    "plt.xlabel(\"Age\")\n",
    "plt.ylabel(\"Count\")\n",
    "plt.show()"
   ]
  },
  {
   "cell_type": "code",
   "execution_count": null,
   "id": "1ebce619",
   "metadata": {},
   "outputs": [],
   "source": []
  }
 ],
 "metadata": {
  "kernelspec": {
   "display_name": "Python 3 (ipykernel)",
   "language": "python",
   "name": "python3"
  },
  "language_info": {
   "codemirror_mode": {
    "name": "ipython",
    "version": 3
   },
   "file_extension": ".py",
   "mimetype": "text/x-python",
   "name": "python",
   "nbconvert_exporter": "python",
   "pygments_lexer": "ipython3",
   "version": "3.9.7"
  }
 },
 "nbformat": 4,
 "nbformat_minor": 5
}
